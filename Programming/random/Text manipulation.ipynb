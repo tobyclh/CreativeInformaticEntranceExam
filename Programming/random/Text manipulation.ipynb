{
 "cells": [
  {
   "cell_type": "code",
   "execution_count": 46,
   "metadata": {},
   "outputs": [],
   "source": [
    "import difflib\n",
    "text1 = 'I have a banana'\n",
    "text2 = 'I have 20 bananas'\n",
    "\n",
    "d = difflib.Differ()\n",
    "diff = d.compare([text1], [text2])\n",
    "#for i, _d in enumerate(diff):\n",
    "#    print(i)\n",
    "#    print(_d)\n",
    "\n",
    "    "
   ]
  },
  {
   "cell_type": "code",
   "execution_count": 47,
   "metadata": {},
   "outputs": [
    {
     "name": "stdout",
     "output_type": "stream",
     "text": [
      "0 - I have a banana\n",
      "1 ?        ^\n",
      "\n",
      "2 + I have 20 bananas\n",
      "3 ?        ^^       +\n",
      "\n"
     ]
    }
   ],
   "source": [
    "def get_string_list(_diff):\n",
    "    listed = []\n",
    "    for i, _d in enumerate(_diff):\n",
    "        print(i, _d)\n",
    "        listed.append(_d)\n",
    "    return listed\n",
    "listed = get_string_list(diff)"
   ]
  },
  {
   "cell_type": "code",
   "execution_count": 48,
   "metadata": {},
   "outputs": [
    {
     "name": "stdout",
     "output_type": "stream",
     "text": [
      "2\n"
     ]
    }
   ],
   "source": [
    "print(listed[3].count('^'))"
   ]
  },
  {
   "cell_type": "code",
   "execution_count": 53,
   "metadata": {},
   "outputs": [
    {
     "name": "stdout",
     "output_type": "stream",
     "text": [
      "Insert s from s2[16:17] into s1 at 15\n",
      "  before = I have a banana\n",
      "   after = I have a banana \n",
      "\n",
      "s1[8:15] and s2[9:16] are the same\n",
      "   after = I have a banana \n",
      "\n",
      "Replace a from s1[7:8] with 20 from s2[7:9]\n",
      "  before = I have a banana\n",
      "   after = I have a banana \n",
      "\n",
      "s1[0:7] and s2[0:7] are the same\n",
      "   after = I have a banana \n",
      "\n",
      "s1 == s2: False\n"
     ]
    }
   ],
   "source": [
    "matcher = difflib.SequenceMatcher(None, text1, text2)\n",
    "for tag, i1, i2, j1, j2 in reversed(matcher.get_opcodes()):\n",
    "\n",
    "    if tag == 'delete':\n",
    "        print('Remove {} from positions [{}:{}]'.format(\n",
    "            text1[i1:i2], i1, i2))\n",
    "        print('  before =', text1)\n",
    "        del text1[i1:i2]\n",
    "\n",
    "    elif tag == 'equal':\n",
    "        print('s1[{}:{}] and s2[{}:{}] are the same'.format(\n",
    "            i1, i2, j1, j2))\n",
    "\n",
    "    elif tag == 'insert':\n",
    "        print('Insert {} from s2[{}:{}] into s1 at {}'.format(\n",
    "            text2[j1:j2], j1, j2, i1))\n",
    "        print('  before =', text1)\n",
    "        #text1[i1:i2] = text2[j1:j2]\n",
    "\n",
    "    elif tag == 'replace':\n",
    "        print(('Replace {} from s1[{}:{}] '\n",
    "               'with {} from s2[{}:{}]').format(\n",
    "                   text1[i1:i2], i1, i2, text2[j1:j2], j1, j2))\n",
    "        print('  before =', text1)\n",
    "        #text1[i1:i2] = text2[j1:j2]\n",
    "\n",
    "    print('   after =', text1, '\\n')\n",
    "\n",
    "print('s1 == s2:', text1 == text2)\n"
   ]
  },
  {
   "cell_type": "code",
   "execution_count": null,
   "metadata": {},
   "outputs": [],
   "source": []
  }
 ],
 "metadata": {
  "kernelspec": {
   "display_name": "Python 3",
   "language": "python",
   "name": "python3"
  },
  "language_info": {
   "codemirror_mode": {
    "name": "ipython",
    "version": 3
   },
   "file_extension": ".py",
   "mimetype": "text/x-python",
   "name": "python",
   "nbconvert_exporter": "python",
   "pygments_lexer": "ipython3",
   "version": "3.6.4"
  }
 },
 "nbformat": 4,
 "nbformat_minor": 2
}
